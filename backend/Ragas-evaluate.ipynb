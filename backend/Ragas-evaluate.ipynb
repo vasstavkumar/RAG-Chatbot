{
 "cells": [
  {
   "cell_type": "code",
   "execution_count": null,
   "metadata": {},
   "outputs": [],
   "source": [
    "from chroma_utils import load_split_document, index_document_to_chroma\n",
    "from langchain_text_splitters import RecursiveCharacterTextSplitter\n",
    "from langchain_community.embeddings import HuggingFaceInferenceAPIEmbeddings\n",
    "from langchain_chroma import Chroma\n",
    "from giskard.rag import generate_testset, evaluate\n",
    "import os"
   ]
  },
  {
   "cell_type": "code",
   "execution_count": null,
   "metadata": {},
   "outputs": [],
   "source": [
    "textsplitter = RecursiveCharacterTextSplitter(\n",
    "    chunk_size = 2000,\n",
    "    chunk_overlap = 200\n",
    ")\n",
    "\n",
    "embedding_model = HuggingFaceInferenceAPIEmbeddings(\n",
    "    model_name='sentence-transformers/all-MiniLM-L6-v2',\n",
    "    api_key= os.getenv('api_key')\n",
    ")\n",
    "\n",
    "vectorstore = Chroma(\n",
    "    persist_directory=\"./chroma_db\",\n",
    "    embedding_function=embedding_model\n",
    ")\n",
    "\n",
    "splits = load_split_document('/Users/vasstavkumarchava/Desktop/AI/RAG-project/data/puma.pdf')\n",
    "\n",
    "vectorstore.add_documents(splits)\n",
    "\n",
    "retriever = vectorstore.as_retriever(search_kwargs = {'k': 5})"
   ]
  },
  {
   "cell_type": "code",
   "execution_count": null,
   "metadata": {},
   "outputs": [],
   "source": [
    "%pip install -qU langchain-groq"
   ]
  },
  {
   "cell_type": "code",
   "execution_count": null,
   "metadata": {},
   "outputs": [],
   "source": [
    "from langchain_groq import ChatGroq\n",
    "from langchain.prompts import ChatPromptTemplate\n",
    "from langchain.schema.runnable import RunnablePassthrough\n",
    "from langchain.schema.output_parser import StrOutputParser\n",
    "import os\n",
    "from dotenv import load_dotenv\n",
    "load_dotenv()\n",
    "\n",
    "\n",
    "groq_api_key = os.getenv('groq_api_key')\n",
    "# Define LLM\n",
    "llm = ChatGroq(model_name=\"llama3-70b-8192\", temperature=0, api_key=groq_api_key)\n",
    "\n",
    "# Define prompt template\n",
    "template = \"\"\"You are an assistant for question-answering tasks. \n",
    "Use the following pieces of retrieved context to answer the question. \n",
    "If you don't know the answer, just say that you don't know. \n",
    "Use two sentences maximum and keep the answer concise.\n",
    "Question: {question} \n",
    "Context: {context} \n",
    "Answer:\n",
    "\"\"\"\n",
    "\n",
    "prompt = ChatPromptTemplate.from_template(template)\n",
    "\n",
    "# Setup RAG pipeline\n",
    "rag_chain = (\n",
    "    {\"context\": retriever,  \"question\": RunnablePassthrough()} \n",
    "    | prompt \n",
    "    | llm\n",
    "    | StrOutputParser() \n",
    ")"
   ]
  },
  {
   "cell_type": "code",
   "execution_count": null,
   "metadata": {},
   "outputs": [],
   "source": [
    "from datasets import Dataset\n",
    "\n",
    "questions = [\n",
    "    \"What percentage of PUMA products met sustainability criteria in 2022?\", \n",
    "    \"How does PUMA power its offices, stores, and warehouses?\", \n",
    "    \"What initiative did PUMA launch for recycling polyester jerseys?\", \n",
    "    \"By how much did PUMA reduce its own carbon emissions compared to 2017?\", \n",
    "    \"What step did PUMA take to reduce its transport emissions?\", \n",
    "    \"What is the average payment above minimum wages for PUMAs core suppliers?\", \n",
    "    \"How did PUMA reduce plastic waste in its stores?\", \n",
    "    \"How many factory workers were trained on workplace harassment in 2022?\", \n",
    "    \"How does PUMA ensure its leather sourcing is sustainable?\", \n",
    "    \"How many hours did PUMA employees contribute to community work?\"\n",
    "]\n",
    "\n",
    "ground_truths = [\n",
    "    [\"70% of PUMA products were made with more sustainable materials in 2022.\"],\n",
    "    [\"PUMA sources 100% renewable electricity for its offices, stores, and warehouses.\"],\n",
    "    [\"PUMA launched the RE:JERSEY project for garment-to-garment polyester recycling.\"],\n",
    "    [\"PUMA reduced its carbon emissions by 86% compared to 2017.\"],\n",
    "    [\"PUMA invested in electrifying its car fleet and introduced its first electric truck in the USA.\"],\n",
    "    [\"The average payment is 13.4% above minimum wages for PUMA’s core Tier 1 factories.\"],\n",
    "    [\"PUMA eliminated consumer-facing plastic bags from its owned and operated stores.\"],\n",
    "    [\"160,000 factory workers were trained on workplace harassment.\"],\n",
    "    [\"PUMA uses only Leather Working Group-certified leather to avoid deforestation.\"],\n",
    "    [\"PUMA employees contributed 43,000 hours of community engagement.\"]\n",
    "]\n",
    "\n",
    "answers = []\n",
    "contexts = []\n",
    "\n",
    "for query in questions:\n",
    "  answers.append(rag_chain.invoke(query))\n",
    "  contexts.append([docs.page_content for docs in retriever.invoke(query)])\n",
    "\n",
    "data = {\n",
    "    \"question\": questions,\n",
    "    \"answer\": answers,\n",
    "    \"contexts\": contexts,\n",
    "    \"ground_truths\": ground_truths\n",
    "}\n",
    "\n",
    "print(answers)\n",
    "print(contexts)\n",
    "\n",
    "dataset = Dataset.from_dict(data)"
   ]
  },
  {
   "cell_type": "code",
   "execution_count": null,
   "metadata": {},
   "outputs": [],
   "source": [
    "from ragas import evaluate\n",
    "from ragas.metrics import (\n",
    "    faithfulness,\n",
    "    answer_relevancy,\n",
    "    context_recall,\n",
    "    context_precision\n",
    ")\n",
    "\n",
    "result = evaluate(\n",
    "    dataset = dataset, \n",
    "    metrics=[\n",
    "        context_recall,\n",
    "        faithfulness,\n",
    "        answer_relevancy,\n",
    "        context_precision\n",
    "    ],\n",
    ")\n",
    "\n",
    "df = result.to_pandas()"
   ]
  },
  {
   "cell_type": "code",
   "execution_count": null,
   "metadata": {},
   "outputs": [],
   "source": []
  }
 ],
 "metadata": {
  "kernelspec": {
   "display_name": "Python 3.11.2 ('venv': venv)",
   "language": "python",
   "name": "python3"
  },
  "language_info": {
   "codemirror_mode": {
    "name": "ipython",
    "version": 3
   },
   "file_extension": ".py",
   "mimetype": "text/x-python",
   "name": "python",
   "nbconvert_exporter": "python",
   "pygments_lexer": "ipython3",
   "version": "3.11.2"
  },
  "orig_nbformat": 4,
  "vscode": {
   "interpreter": {
    "hash": "465cc22f8cdf5db61de00ad2cf69b075aad71d4dbe505f23fbbf52c5feefb436"
   }
  }
 },
 "nbformat": 4,
 "nbformat_minor": 2
}
