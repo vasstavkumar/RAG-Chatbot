{
 "cells": [
  {
   "cell_type": "code",
   "execution_count": 2,
   "metadata": {},
   "outputs": [],
   "source": [
    "from chroma_utils import load_split_document, index_document_to_chroma\n",
    "from langchain_text_splitters import RecursiveCharacterTextSplitter\n",
    "from langchain_community.embeddings import HuggingFaceInferenceAPIEmbeddings\n",
    "from langchain_chroma import Chroma\n",
    "import os"
   ]
  },
  {
   "cell_type": "code",
   "execution_count": 3,
   "metadata": {},
   "outputs": [],
   "source": [
    "textsplitter = RecursiveCharacterTextSplitter(\n",
    "    chunk_size = 2000,\n",
    "    chunk_overlap = 200\n",
    ")\n",
    "\n",
    "embedding_model = HuggingFaceInferenceAPIEmbeddings(\n",
    "    model_name='sentence-transformers/all-MiniLM-L6-v2',\n",
    "    api_key= os.getenv('api_key')\n",
    ")\n",
    "\n",
    "vectorstore = Chroma(\n",
    "    persist_directory=\"./chroma_db\",\n",
    "    embedding_function=embedding_model\n",
    ")\n",
    "\n",
    "splits = load_split_document('/Users/vasstavkumarchava/Desktop/AI/RAG-project/data/puma.pdf')\n",
    "\n",
    "vectorstore.add_documents(splits)\n",
    "\n",
    "retriever = vectorstore.as_retriever(search_kwargs = {'k': 3})"
   ]
  },
  {
   "cell_type": "code",
   "execution_count": 4,
   "metadata": {},
   "outputs": [
    {
     "name": "stdout",
     "output_type": "stream",
     "text": [
      "240\n"
     ]
    }
   ],
   "source": [
    "print(len(splits))"
   ]
  },
  {
   "cell_type": "code",
   "execution_count": 5,
   "metadata": {},
   "outputs": [],
   "source": [
    "from langchain_groq import ChatGroq\n",
    "from langchain.prompts import ChatPromptTemplate\n",
    "from langchain.schema.runnable import RunnablePassthrough\n",
    "from langchain.schema.output_parser import StrOutputParser\n",
    "import os\n",
    "from dotenv import load_dotenv\n",
    "load_dotenv()\n",
    "\n",
    "\n",
    "groq_api_key = os.getenv('groq_api_key')\n",
    "\n",
    "llm = ChatGroq(model_name=\"llama3-70b-8192\", temperature=0, api_key=groq_api_key)\n",
    "\n",
    "template = \"\"\"You are an assistant for question-answering tasks. \n",
    "Use the following pieces of retrieved context to answer the question. \n",
    "If you don't know the answer, just say that you don't know. \n",
    "Use two sentences maximum and keep the answer concise.\n",
    "Question: {question} \n",
    "Context: {context} \n",
    "Answer:\n",
    "\"\"\"\n",
    "\n",
    "prompt = ChatPromptTemplate.from_template(template)\n",
    "\n",
    "rag_chain = (\n",
    "    {\"context\": retriever,  \"question\": RunnablePassthrough()} \n",
    "    | prompt \n",
    "    | llm\n",
    "    | StrOutputParser() \n",
    ")"
   ]
  },
  {
   "cell_type": "code",
   "execution_count": 6,
   "metadata": {},
   "outputs": [],
   "source": [
    "questions = [\n",
    "    \"How does PUMA power its offices, stores, and warehouses?\", \n",
    "    \"What initiative did PUMA launch for recycling polyester jerseys?\", \n",
    "    \"By how much did PUMA reduce its own carbon emissions compared to 2017?\", \n",
    "    \"What step did PUMA take to reduce its transport emissions?\", \n",
    "]\n",
    "\n",
    "ground_truths = [\n",
    "    \"PUMA sources 100% renewable electricity for its offices, stores, and warehouses.\",\n",
    "    \"PUMA launched the RE:JERSEY project for garment-to-garment polyester recycling.\",\n",
    "    \"PUMA reduced its carbon emissions by 86% compared to 2017.\",\n",
    "    \"PUMA invested in electrifying its car fleet and introduced its first electric truck in the USA.\",\n",
    "]\n",
    "\n",
    "answers = []\n",
    "contexts = []\n",
    "\n",
    "\n",
    "for query in questions:\n",
    "  answers.append(rag_chain.invoke(query))\n",
    "  contexts.append([docs.page_content for docs in retriever.invoke(query)])\n",
    "\n"
   ]
  },
  {
   "cell_type": "code",
   "execution_count": 8,
   "metadata": {},
   "outputs": [],
   "source": [
    "data = [\n",
    "    {\n",
    "        \"question\": questions[i],\n",
    "        \"ground_truth\": ground_truths[i],\n",
    "        \"answer\": answers[i],\n",
    "        \"context\": contexts[i],\n",
    "    }\n",
    "    for i in range(len(questions))\n",
    "]\n",
    "\n",
    "\n",
    "formatted_context = \"\\n\".join(\n",
    "    f\"Q: {entry['question']}\\nGT: {entry['ground_truth']}\\nCTX: {', '.join(entry['context'])}\\nANS: {entry['answer']}\\n\"\n",
    "    for entry in data\n",
    ")\n",
    "\n"
   ]
  },
  {
   "cell_type": "code",
   "execution_count": 9,
   "metadata": {},
   "outputs": [
    {
     "name": "stdout",
     "output_type": "stream",
     "text": [
      "Q: How does PUMA power its offices, stores, and warehouses?\n",
      "GT: PUMA sources 100% renewable electricity for its offices, stores, and warehouses.\n",
      "CTX: are operated by a third party.\n",
      "** A location-based method reflects the average emissions intensity of grids on which energy consumption occurs. \n",
      "*** A market-based method reflects emissions from electricity that companies have purposefully chosen. It derives emission \n",
      "factors from contractual instruments, which include any type of contract between two parties for the sale and purchase of \n",
      "energy bundled with attributes about the energy generation, or for unbundled attribute claims. \n",
      "1. PUMA’s greenhouse gas reporting is in line with the GHG Protocol International Accounting Standard. Fugitive emissions \n",
      "(emissions from unintentional releases or leaks) are not included in Scope 1 emissions. \n",
      "2. Methodological changes over the last three years have influenced results. In 2020 updated emission factors were applied \n",
      "and the consolidated structure changed due to full alignment with the GHG Protocol. \n",
      "3. The consolidation scope follows the operational control approach, including PUMA-owned or operated offices, warehouses, \n",
      "stores and own industrial sites (Argentina).\n",
      "4. PUMA applied emission factors from internationally recognized sources, such as the International Energy Agency (IEA)\n",
      "(20\n",
      "19) and DEFRA conversion factors (2020)., are operated by a third party.\n",
      "** A location-based method reflects the average emissions intensity of grids on which energy consumption occurs. \n",
      "*** A market-based method reflects emissions from electricity that companies have purposefully chosen. It derives emission \n",
      "factors from contractual instruments, which include any type of contract between two parties for the sale and purchase of \n",
      "energy bundled with attributes about the energy generation, or for unbundled attribute claims. \n",
      "1. PUMA’s greenhouse gas reporting is in line with the GHG Protocol International Accounting Standard. Fugitive emissions \n",
      "(emissions from unintentional releases or leaks) are not included in Scope 1 emissions. \n",
      "2. Methodological changes over the last three years have influenced results. In 2020 updated emission factors were applied \n",
      "and the consolidated structure changed due to full alignment with the GHG Protocol. \n",
      "3. The consolidation scope follows the operational control approach, including PUMA-owned or operated offices, warehouses, \n",
      "stores and own industrial sites (Argentina).\n",
      "4. PUMA applied emission factors from internationally recognized sources, such as the International Energy Agency (IEA)\n",
      "(20\n",
      "19) and DEFRA conversion factors (2020)., related activities and Scope 3 Upstream Leased assets includes the emissions from warehouses in PUMA’s value chain that \n",
      "are operated by a third party. \n",
      "** In 2020, upstream outbound values were adjusted to fully cover the e-commerce business and exclude B2B express \n",
      "volumes. \n",
      "1. PUMA’s greenhouse gas reporting is in line with the GHG Protocol International Accounting Standard. Fugitive emissions \n",
      "(emissions from unintentional releases or leaks) are not included in Scope 1 emissions. \n",
      "2. Methodological changes over the last three years have influenced results. In 2020 updated emission factors were applied \n",
      "and the consolidated structure changed due to full alignment with the GHG Protocol. \n",
      "3. The consolidation scope follows the operational control approach, including PUMA-owned or operated offices, warehouses, \n",
      "stores and own industrial sites (Argentina). \n",
      "4. Outsourced Tier 1 production is accounted for in the Scope 3 emissions under purchased goods and services, covering CO2 \n",
      "emissions from all three product divisions (Accessories, Apparel and Footwear). \n",
      "5. PUMA applied emission factors from internationally recognized sources, such as the International Energy Agency (IEA) \n",
      "(2019) and DEFRA conversion factors (2020). \n",
      "6. For sea freight transportation, PUMA follows the recommendation and new methodology of the Clean Cargo Working Group \n",
      "that has transitioned from the use of tank-to-wheel (TTW) CO2 to well-to-wheel (WTW) CO2-equivalent emission factors for \n",
      "all fuels.\n",
      "ANS: PUMA's offices, stores, and warehouses are powered by electricity from the grid, and the company uses a location-based method to reflect the average emissions intensity of the grids. The exact source of the electricity (e.g., renewable or non-renewable) is not specified in the provided context.\n",
      "\n",
      "Q: What initiative did PUMA launch for recycling polyester jerseys?\n",
      "GT: PUMA launched the RE:JERSEY project for garment-to-garment polyester recycling.\n",
      "CTX: Annual Report 2022     ↗ Sustainability \n",
      " \n",
      " \n",
      "130 \n",
      "In apparel we developed a textile-to-textile recycling opportunity with partners in Europe called RE: \n",
      "JERSEY. The initiative enables the recycling of worn or unsellable polyester items (for example due to \n",
      "expired licensing contracts) through an innovative chemical recycling process into new textile items. We \n",
      "partnered with several PUMA teams for this project: Manchester United, AC Milan, Olympique de Marseille \n",
      "and Borussia Dortmund. We collect polyester products at the clubs’ fan shops and our own PUMA Store in \n",
      "Herzogenaurach. These products are sorted, recycled, and turned into new football jerseys in Europe. \n",
      " \n",
      "RE:JERSEY: Manchester City players wear recycled PUMA jerseys for warm-up \n",
      "RECYCLED MATERIALS USAGE \n",
      "We encourage all our suppliers to reuse and recycle the fabric waste they are creating for PUMA \n",
      "production, either through applications outside of our industry or ideally, by recycling offcuts into new \n",
      "polyester or cotton yarns. \n",
      "We have set circularity targets, for example, scaling up the use of recycled polyester and cotton and using \n",
      "recycled alternatives to leather, rubber and polyurethane (PU), the materials we use most frequently after \n",
      "cotton and polyester. Our material toolboxes include recycled material options for all these materials. For \n",
      "recycling and recycled thermoplastic polyurethane (TPU), we have started a research project with a \n",
      "chemical company.  \n",
      "To communicate our use of recycled materials in our products, we launched our RE:COLLECTION in 2022. \n",
      "The collection is made with recycled cotton and recycled polyester. In parallel, we continued our First Mile \n",
      "collection made from recycled plastic bottles. \n",
      "The percentage of recycled polyester increased for all product divisions from 14% in 2020 to 48% in 2022. \n",
      "The percentage of recycled cotton for our apparel products increased from 0.6% in 2020 to 3.6% in 2022, \n",
      "and for footwear it increased from 0.5% to 2.4%., Annual Report 2022     ↗ Sustainability \n",
      " \n",
      " \n",
      "130 \n",
      "In apparel we developed a textile-to-textile recycling opportunity with partners in Europe called RE: \n",
      "JERSEY. The initiative enables the recycling of worn or unsellable polyester items (for example due to \n",
      "expired licensing contracts) through an innovative chemical recycling process into new textile items. We \n",
      "partnered with several PUMA teams for this project: Manchester United, AC Milan, Olympique de Marseille \n",
      "and Borussia Dortmund. We collect polyester products at the clubs’ fan shops and our own PUMA Store in \n",
      "Herzogenaurach. These products are sorted, recycled, and turned into new football jerseys in Europe. \n",
      " \n",
      "RE:JERSEY: Manchester City players wear recycled PUMA jerseys for warm-up \n",
      "RECYCLED MATERIALS USAGE \n",
      "We encourage all our suppliers to reuse and recycle the fabric waste they are creating for PUMA \n",
      "production, either through applications outside of our industry or ideally, by recycling offcuts into new \n",
      "polyester or cotton yarns. \n",
      "We have set circularity targets, for example, scaling up the use of recycled polyester and cotton and using \n",
      "recycled alternatives to leather, rubber and polyurethane (PU), the materials we use most frequently after \n",
      "cotton and polyester. Our material toolboxes include recycled material options for all these materials. For \n",
      "recycling and recycled thermoplastic polyurethane (TPU), we have started a research project with a \n",
      "chemical company.  \n",
      "To communicate our use of recycled materials in our products, we launched our RE:COLLECTION in 2022. \n",
      "The collection is made with recycled cotton and recycled polyester. In parallel, we continued our First Mile \n",
      "collection made from recycled plastic bottles. \n",
      "The percentage of recycled polyester increased for all product divisions from 14% in 2020 to 48% in 2022. \n",
      "The percentage of recycled cotton for our apparel products increased from 0.6% in 2020 to 3.6% in 2022, \n",
      "and for footwear it increased from 0.5% to 2.4%., Annual Report 2022     ↗ Sustainability \n",
      " \n",
      " \n",
      "39 \n",
      "↗ G.03 MATRIX OF KEY PARTNERSHIP INITIATIVES \n",
      " \n",
      "AFIRM: Apparel and Footwear International RSL Management, BCI: Better Cotton Initiative, CDP: Carbon Disclosure Project, \n",
      "FESI: Federation of the European Sporting Industry, FFC: Fair Factories Clearinghouse, FSC: Forest Stewardship Council, FLA: \n",
      "Fair Labor Association, GIZ: German Corporation for International Cooperation, IFC: International Finance Corporation, ILO: \n",
      "International Labour Organization, IPE: Institute of Public and Environmental Affairs, ITC: International Training Center, RMG: \n",
      "Ready Made Garments, SAC: Sustainable Apparel Coalition, SLCP: Social and Labor Convergence Program, UNFCCC: United \n",
      "Nations Framework Convention Climate Change, WRI: World Resources Institute, WWF: World Wide Fund for Nature, ZDHC: \n",
      "Zero Discharge of Hazardous Chemicals Foundation \n",
      " \n",
      " \n",
      "“PUMA continuously works to enact long-lasting impact for our collective future and is a valued member \n",
      "of Global Fashion Agenda’s diverse ecosystem. In 2022, it was a pleasure to have PUMA exchange \n",
      "insights at both the Copenhagen and Singapore editions of Global Fashion Summit.” \n",
      "FEDERICA MARCHIONNI \n",
      "Chief Executive Officer, Global Fashion Agenda \n",
      " \n",
      "CONFERENCE OF THE PEOPLE \n",
      "Our first PUMA stakeholder dialog dates back to 2003. Since then we have organized 15 in-person and one \n",
      "virtual stakeholder meetings.  \n",
      "As part of our ongoing stakeholder dialog, and to expand our communication with younger generations, we \n",
      "launched the first Conference of the People in September 2022. With a live event in London including 200 \n",
      "external guests that was streamed live to over 2,000 viewers around the globe, this format allowed us to \n",
      "have an open conversation about the most critical sustainability challenges, such as circularity and climate \n",
      "change with Generation Z representatives, as well as industry experts and peers during five discussion\n",
      "ANS: PUMA launched the RE:JERSEY initiative for recycling polyester jerseys. This initiative enables the recycling of worn or unsellable polyester items through an innovative chemical recycling process into new textile items.\n",
      "\n",
      "Q: By how much did PUMA reduce its own carbon emissions compared to 2017?\n",
      "GT: PUMA reduced its carbon emissions by 86% compared to 2017.\n",
      "CTX: Annual Report 2022     ↗ Sustainability \n",
      " \n",
      " \n",
      "102 \n",
      "↗ T.19 PUMA’S SCOPE 3 CATEGORY-1 CO2e EMISSIONS FROM SELECTED VALUE CHAIN \n",
      "ACTIVITIES \n",
      "Scope 3 emissions (category -1)   \n",
      "2017 \n",
      "(baseline) 2021 2022 \n",
      "% change \n",
      "2017/2021 \n",
      "Absolute GHG emissions (tCO2 eq)  1,409,265 1,242,468 1,278,758 -9%  \n",
      "     \n",
      "Note: Scope 3 category 1 estimation includes GHG emissions associated with goods and services purchased \n",
      "by PUMA from its suppliers related to PUMA products and associated packaging. This excludes emissions \n",
      "associated with other goods and services acquired by PUMA offices, stores and warehouses. \n",
      "We can see that our absolute scope 3 emissions from the category, purchased goods and services have \n",
      "decreased by 9% from 2017 to 2022, while material consumption has increased by 27% during the same \n",
      "period. Due to energy efficiency improvements and the use of renewable electricity at factory level, as well \n",
      "as the usage of more sustainable materials, our absolute emissions have decreased while our business has \n",
      "grown by 105% as compared to the base year of 2017. Moreover, the initiatives taken by the factories \n",
      "towards the end of 2022 e.g., participation in cleaner production projects, installation of roof top solar etc. \n",
      "will reflect results in coming years. Scope 3, category-1 emissions mainly originate from two sources; the \n",
      "raw materials and the energy consumed by our core Tier 1, Tier 2 and Tier 3 (production of raw material) \n",
      "suppliers to produce finished materials and components as well as finished goods. \n",
      "↗ G.20 GHG EMISSIONS BY SOURCES, Annual Report 2022     ↗ Sustainability \n",
      " \n",
      " \n",
      "102 \n",
      "↗ T.19 PUMA’S SCOPE 3 CATEGORY-1 CO2e EMISSIONS FROM SELECTED VALUE CHAIN \n",
      "ACTIVITIES \n",
      "Scope 3 emissions (category -1)   \n",
      "2017 \n",
      "(baseline) 2021 2022 \n",
      "% change \n",
      "2017/2021 \n",
      "Absolute GHG emissions (tCO2 eq)  1,409,265 1,242,468 1,278,758 -9%  \n",
      "     \n",
      "Note: Scope 3 category 1 estimation includes GHG emissions associated with goods and services purchased \n",
      "by PUMA from its suppliers related to PUMA products and associated packaging. This excludes emissions \n",
      "associated with other goods and services acquired by PUMA offices, stores and warehouses. \n",
      "We can see that our absolute scope 3 emissions from the category, purchased goods and services have \n",
      "decreased by 9% from 2017 to 2022, while material consumption has increased by 27% during the same \n",
      "period. Due to energy efficiency improvements and the use of renewable electricity at factory level, as well \n",
      "as the usage of more sustainable materials, our absolute emissions have decreased while our business has \n",
      "grown by 105% as compared to the base year of 2017. Moreover, the initiatives taken by the factories \n",
      "towards the end of 2022 e.g., participation in cleaner production projects, installation of roof top solar etc. \n",
      "will reflect results in coming years. Scope 3, category-1 emissions mainly originate from two sources; the \n",
      "raw materials and the energy consumed by our core Tier 1, Tier 2 and Tier 3 (production of raw material) \n",
      "suppliers to produce finished materials and components as well as finished goods. \n",
      "↗ G.20 GHG EMISSIONS BY SOURCES, innovation partners on different pilot projects, such as a garment-to-garment recycling process and a \n",
      "biodegradable shoe. Within its own operations, PUMA reduces its carbon footprint by sourcing 100% \n",
      "renewable electricity since 2020 and by gradually shifting its car fleet to low- and zero-emissions vehicles.\n",
      "ANS: PUMA did not reduce its own carbon emissions in the provided context, as the information only discusses Scope 3 emissions from purchased goods and services, not PUMA's own operations.\n",
      "\n",
      "Q: What step did PUMA take to reduce its transport emissions?\n",
      "GT: PUMA invested in electrifying its car fleet and introduced its first electric truck in the USA.\n",
      "CTX: related activities and Scope 3 Upstream Leased assets includes the emissions from warehouses in PUMA’s value chain that \n",
      "are operated by a third party. \n",
      "** In 2020, upstream outbound values were adjusted to fully cover the e-commerce business and exclude B2B express \n",
      "volumes. \n",
      "1. PUMA’s greenhouse gas reporting is in line with the GHG Protocol International Accounting Standard. Fugitive emissions \n",
      "(emissions from unintentional releases or leaks) are not included in Scope 1 emissions. \n",
      "2. Methodological changes over the last three years have influenced results. In 2020 updated emission factors were applied \n",
      "and the consolidated structure changed due to full alignment with the GHG Protocol. \n",
      "3. The consolidation scope follows the operational control approach, including PUMA-owned or operated offices, warehouses, \n",
      "stores and own industrial sites (Argentina). \n",
      "4. Outsourced Tier 1 production is accounted for in the Scope 3 emissions under purchased goods and services, covering CO2 \n",
      "emissions from all three product divisions (Accessories, Apparel and Footwear). \n",
      "5. PUMA applied emission factors from internationally recognized sources, such as the International Energy Agency (IEA) \n",
      "(2019) and DEFRA conversion factors (2020). \n",
      "6. For sea freight transportation, PUMA follows the recommendation and new methodology of the Clean Cargo Working Group \n",
      "that has transitioned from the use of tank-to-wheel (TTW) CO2 to well-to-wheel (WTW) CO2-equivalent emission factors for \n",
      "all fuels., related activities and Scope 3 Upstream Leased assets includes the emissions from warehouses in PUMA’s value chain that \n",
      "are operated by a third party. \n",
      "** In 2020, upstream outbound values were adjusted to fully cover the e-commerce business and exclude B2B express \n",
      "volumes. \n",
      "1. PUMA’s greenhouse gas reporting is in line with the GHG Protocol International Accounting Standard. Fugitive emissions \n",
      "(emissions from unintentional releases or leaks) are not included in Scope 1 emissions. \n",
      "2. Methodological changes over the last three years have influenced results. In 2020 updated emission factors were applied \n",
      "and the consolidated structure changed due to full alignment with the GHG Protocol. \n",
      "3. The consolidation scope follows the operational control approach, including PUMA-owned or operated offices, warehouses, \n",
      "stores and own industrial sites (Argentina). \n",
      "4. Outsourced Tier 1 production is accounted for in the Scope 3 emissions under purchased goods and services, covering CO2 \n",
      "emissions from all three product divisions (Accessories, Apparel and Footwear). \n",
      "5. PUMA applied emission factors from internationally recognized sources, such as the International Energy Agency (IEA) \n",
      "(2019) and DEFRA conversion factors (2020). \n",
      "6. For sea freight transportation, PUMA follows the recommendation and new methodology of the Clean Cargo Working Group \n",
      "that has transitioned from the use of tank-to-wheel (TTW) CO2 to well-to-wheel (WTW) CO2-equivalent emission factors for \n",
      "all fuels., innovation partners on different pilot projects, such as a garment-to-garment recycling process and a \n",
      "biodegradable shoe. Within its own operations, PUMA reduces its carbon footprint by sourcing 100% \n",
      "renewable electricity since 2020 and by gradually shifting its car fleet to low- and zero-emissions vehicles.\n",
      "ANS: PUMA reduced its transport emissions by gradually shifting its car fleet to low- and zero-emissions vehicles.\n",
      "\n"
     ]
    }
   ],
   "source": [
    "print(formatted_context)"
   ]
  },
  {
   "cell_type": "code",
   "execution_count": 23,
   "metadata": {},
   "outputs": [],
   "source": [
    "\n",
    "llm_evalution = ChatGroq(model_name=\"llama3-70b-8192\", temperature=0, api_key=groq_api_key)\n",
    "\n",
    "template = \"\"\"\n",
    "\n",
    "You are an expert evaluator for a Retrieval-Augmented Generation (RAG) model. Given a dataset with `question`, `answer`, `ground_truths`, and `contexts`, evaluate both the retrieval and generation components of the model. \n",
    "\n",
    "### **1. Evaluate the Retrieval Quality:**  \n",
    "For each `question`, the model retrieves a `context`. Assess how well the retrieved `context` matches the `ground_truths` using the following metrics:\n",
    "\n",
    "- **Recall@k**: Measure the percentage of times the correct `ground_truths` appear in the top-k retrieved `contexts`. Compute Recall@1, Recall@3, and Recall@5.\n",
    "- **Mean Reciprocal Rank (MRR)**: Compute the MRR score to rank the relevance of retrieved documents.\n",
    "- **Normalized Discounted Cumulative Gain (NDCG)**: Compute NDCG@3 and NDCG@5 to evaluate ranking quality of retrieval results.\n",
    "- **BLEU / ROUGE Similarity (Retrieval)**: Compare the similarity between retrieved `contexts` and `ground_truths` using ROUGE-L or BLEU.\n",
    "\n",
    "### **2. Evaluate the Generation Quality:**  \n",
    "For each `question`, the model generates an `answer`. Assess the quality of the generated `answer` compared to `ground_truths` using:\n",
    "\n",
    "- **Exact Match (EM)**: Percentage of answers that exactly match the `ground_truths`.\n",
    "- **F1 Score**: Compute the word overlap between the generated answer and `ground_truths`.\n",
    "- **ROUGE-L**: Compare the longest common subsequence between generated and ground truth answers.\n",
    "- **BLEU Score**: Compute n-gram overlap to measure the fluency and relevance of the generated response.\n",
    "- **BERTScore**: Use contextual embeddings to measure similarity between generated answers and ground truths.\n",
    "\n",
    "### **3. Compute Overall Scores:**  \n",
    "For a holistic evaluation, compute an **aggregated performance score** by combining retrieval and generation scores. Provide a detailed breakdown of the scores and highlight areas of improvement.\n",
    "\n",
    "based on all the above scores give me the overall score of the model. Tell me the overall score out of 100. if the score is below 50 result should just be BAD MODEL, if the score is in between 50 and 70 result should just be Average MODEL, if the score is between 70 and 80 result should just be Good MODEL, if the score is above 90 result should just be Excellent MODEL\n",
    "\n",
    "I just need the bucketting output. I don't need any scores for generation and retrieval.\n",
    "\n",
    "based on the dataset: {context}\n",
    "\"\"\"\n",
    "\n",
    "prompt = ChatPromptTemplate.from_template(template)\n",
    "\n",
    "rag_chain = (\n",
    "    {\"context\": lambda x: formatted_context} \n",
    "    | prompt\n",
    "    | llm_evalution\n",
    "    | StrOutputParser()\n",
    ")\n",
    "\n",
    "result = rag_chain.invoke({\"context\": formatted_context})\n"
   ]
  },
  {
   "cell_type": "code",
   "execution_count": 24,
   "metadata": {},
   "outputs": [
    {
     "name": "stdout",
     "output_type": "stream",
     "text": [
      "Based on the provided dataset, I evaluated the Retrieval-Augmented Generation (RAG) model and computed the overall score. Here is the result:\n",
      "\n",
      "**Overall Score: 82**\n",
      "\n",
      "Based on this score, I would categorize the model as **Good MODEL**.\n"
     ]
    }
   ],
   "source": [
    "print(result)"
   ]
  },
  {
   "cell_type": "code",
   "execution_count": 12,
   "metadata": {},
   "outputs": [
    {
     "name": "stdout",
     "output_type": "stream",
     "text": [
      "['Annual Report 2022     ↗ Sustainability \\n \\n \\n102 \\n↗ T.19 PUMA’S SCOPE 3 CATEGORY-1 CO2e EMISSIONS FROM SELECTED VALUE CHAIN \\nACTIVITIES \\nScope 3 emissions (category -1)   \\n2017 \\n(baseline) 2021 2022 \\n% change \\n2017/2021 \\nAbsolute GHG emissions (tCO2 eq)  1,409,265 1,242,468 1,278,758 -9%  \\n     \\nNote: Scope 3 category 1 estimation includes GHG emissions associated with goods and services purchased \\nby PUMA from its suppliers related to PUMA products and associated packaging. This excludes emissions \\nassociated with other goods and services acquired by PUMA offices, stores and warehouses. \\nWe can see that our absolute scope 3 emissions from the category, purchased goods and services have \\ndecreased by 9% from 2017 to 2022, while material consumption has increased by 27% during the same \\nperiod. Due to energy efficiency improvements and the use of renewable electricity at factory level, as well \\nas the usage of more sustainable materials, our absolute emissions have decreased while our business has \\ngrown by 105% as compared to the base year of 2017. Moreover, the initiatives taken by the factories \\ntowards the end of 2022 e.g., participation in cleaner production projects, installation of roof top solar etc. \\nwill reflect results in coming years. Scope 3, category-1 emissions mainly originate from two sources; the \\nraw materials and the energy consumed by our core Tier 1, Tier 2 and Tier 3 (production of raw material) \\nsuppliers to produce finished materials and components as well as finished goods. \\n↗ G.20 GHG EMISSIONS BY SOURCES', 'Annual Report 2022     ↗ Sustainability \\n \\n \\n102 \\n↗ T.19 PUMA’S SCOPE 3 CATEGORY-1 CO2e EMISSIONS FROM SELECTED VALUE CHAIN \\nACTIVITIES \\nScope 3 emissions (category -1)   \\n2017 \\n(baseline) 2021 2022 \\n% change \\n2017/2021 \\nAbsolute GHG emissions (tCO2 eq)  1,409,265 1,242,468 1,278,758 -9%  \\n     \\nNote: Scope 3 category 1 estimation includes GHG emissions associated with goods and services purchased \\nby PUMA from its suppliers related to PUMA products and associated packaging. This excludes emissions \\nassociated with other goods and services acquired by PUMA offices, stores and warehouses. \\nWe can see that our absolute scope 3 emissions from the category, purchased goods and services have \\ndecreased by 9% from 2017 to 2022, while material consumption has increased by 27% during the same \\nperiod. Due to energy efficiency improvements and the use of renewable electricity at factory level, as well \\nas the usage of more sustainable materials, our absolute emissions have decreased while our business has \\ngrown by 105% as compared to the base year of 2017. Moreover, the initiatives taken by the factories \\ntowards the end of 2022 e.g., participation in cleaner production projects, installation of roof top solar etc. \\nwill reflect results in coming years. Scope 3, category-1 emissions mainly originate from two sources; the \\nraw materials and the energy consumed by our core Tier 1, Tier 2 and Tier 3 (production of raw material) \\nsuppliers to produce finished materials and components as well as finished goods. \\n↗ G.20 GHG EMISSIONS BY SOURCES', 'innovation partners on different pilot projects, such as a garment-to-garment recycling process and a \\nbiodegradable shoe. Within its own operations, PUMA reduces its carbon footprint by sourcing 100% \\nrenewable electricity since 2020 and by gradually shifting its car fleet to low- and zero-emissions vehicles.']\n"
     ]
    }
   ],
   "source": [
    "con = contexts[2]\n",
    "\n",
    "print(con)"
   ]
  },
  {
   "cell_type": "markdown",
   "metadata": {
    "notebookRunGroups": {
     "groupValue": ""
    }
   },
   "source": [
    "***Manual Evaluation***"
   ]
  },
  {
   "cell_type": "markdown",
   "metadata": {},
   "source": [
    "Cosine Similarity\n"
   ]
  },
  {
   "cell_type": "code",
   "execution_count": 15,
   "metadata": {},
   "outputs": [
    {
     "name": "stdout",
     "output_type": "stream",
     "text": [
      "Evaluating question: How does PUMA power its offices, stores, and warehouses?\n",
      "These are the cosine similarity values of chunks: [0.59479820728302, 0.59479820728302, 0.534403383731842]\n",
      "No of relevant retrieved chunks: 0\n",
      "This is the cosine similarity of the ground truth and answer generated: 0.7839676737785339\n",
      "--------------------------\n",
      "Evaluating question: What initiative did PUMA launch for recycling polyester jerseys?\n",
      "These are the cosine similarity values of chunks: [0.8139957189559937, 0.8139957189559937, 0.6340339183807373]\n",
      "No of relevant retrieved chunks: 2\n",
      "This is the cosine similarity of the ground truth and answer generated: 0.9183568954467773\n",
      "--------------------------\n",
      "Evaluating question: By how much did PUMA reduce its own carbon emissions compared to 2017?\n",
      "These are the cosine similarity values of chunks: [0.7125610113143921, 0.7125610113143921, 0.6776577234268188]\n",
      "No of relevant retrieved chunks: 2\n",
      "This is the cosine similarity of the ground truth and answer generated: 0.7431848049163818\n",
      "--------------------------\n",
      "Evaluating question: What step did PUMA take to reduce its transport emissions?\n",
      "These are the cosine similarity values of chunks: [0.4720708131790161, 0.4720708131790161, 0.5671001672744751]\n",
      "No of relevant retrieved chunks: 0\n",
      "This is the cosine similarity of the ground truth and answer generated: 0.6468385457992554\n",
      "--------------------------\n",
      "The average cosine similarity of relevant retrieved chunks :  1.0\n",
      "The average cosine similarity of the ground truth and answer generates:  0.7730869799852371\n",
      "Context precision of the model is :  0.3333333333333333\n",
      "context recall of the model is :  0.016666666666666666\n",
      "F1 score of the model is :  0.031746031746031744\n"
     ]
    }
   ],
   "source": [
    "from sentence_transformers import SentenceTransformer, util\n",
    "\n",
    "def evaluate_retrieval_and_answers(questions, answers, contexts, ground_truths):\n",
    "    total_relevant_retrieved = 0\n",
    "    total_similarity_ans = 0\n",
    "    total_retrieved = 0\n",
    "    model = SentenceTransformer(\"all-MiniLM-L6-v2\")\n",
    "    \n",
    "    for i in range(len(questions)): \n",
    "        ques = questions[i]\n",
    "        ans = answers[i]\n",
    "        con = contexts[i]\n",
    "        gt = ground_truths[i]\n",
    "\n",
    "        gt_embed = model.encode(gt)\n",
    "        con_embed = [model.encode(ctx) for ctx in con]\n",
    "        ans_embed = model.encode(ans)\n",
    "\n",
    "        similarities_context = [util.pytorch_cos_sim(gt_embed, emb)[0].item() for emb in con_embed]\n",
    "        similarity_ans = util.pytorch_cos_sim(gt_embed, ans_embed).item()\n",
    "\n",
    "        threshold = 0.7\n",
    "        relevant_retrieved = sum(1 for sim in similarities_context if sim >= threshold)\n",
    "        total_retrieved  = total_retrieved + len(con)\n",
    "        \n",
    "        total_relevant_retrieved = total_relevant_retrieved + relevant_retrieved\n",
    "        total_similarity_ans = total_similarity_ans + similarity_ans\n",
    "\n",
    "\n",
    "        print(f'Evaluating question: {ques}')\n",
    "        print(\"These are the cosine similarity values of chunks:\", similarities_context)\n",
    "        print(\"No of relevant retrieved chunks:\", relevant_retrieved)\n",
    "        print('This is the cosine similarity of the ground truth and answer generated:', similarity_ans)\n",
    "        print('--------------------------')\n",
    "\n",
    "    print(\"The average cosine similarity of relevant retrieved chunks : \", total_relevant_retrieved/len(questions))\n",
    "    print(\"The average cosine similarity of the ground truth and answer generates: \", total_similarity_ans/len(questions))\n",
    "\n",
    "    # context_precision = total_relevant_retrieved/total_retrieved\n",
    "    # context_recall = total_relevant_retrieved/240\n",
    "    # f1_score = 2 * (context_precision * context_recall) / (context_precision + context_recall)\n",
    "\n",
    "    # print('Context precision of the model is : ', context_precision)\n",
    "    # print('context recall of the model is : ', context_recall)\n",
    "    # print('F1 score of the model is : ', f1_score)\n",
    "\n",
    "evaluate_retrieval_and_answers(questions=questions, answers=answers, contexts=contexts, ground_truths=ground_truths)\n"
   ]
  },
  {
   "cell_type": "markdown",
   "metadata": {},
   "source": [
    "Jaccard Similarity"
   ]
  },
  {
   "cell_type": "code",
   "execution_count": 16,
   "metadata": {},
   "outputs": [
    {
     "name": "stdout",
     "output_type": "stream",
     "text": [
      "Evaluating question :  How does PUMA power its offices, stores, and warehouses?\n",
      "The jaccard similarity of this question is : 0.11627906976744186\n",
      "-----------------------\n",
      "Evaluating question :  What initiative did PUMA launch for recycling polyester jerseys?\n",
      "The jaccard similarity of this question is : 0.21428571428571427\n",
      "-----------------------\n",
      "Evaluating question :  By how much did PUMA reduce its own carbon emissions compared to 2017?\n",
      "The jaccard similarity of this question is : 0.12903225806451613\n",
      "-----------------------\n",
      "Evaluating question :  What step did PUMA take to reduce its transport emissions?\n",
      "The jaccard similarity of this question is : 0.20833333333333334\n",
      "-----------------------\n",
      "The average jaccard similarity of ground_truth and answer is : 0.1669825938627514\n"
     ]
    }
   ],
   "source": [
    "def jaccard_similarity(questions, text1, text2):\n",
    "\n",
    "    average_jaccard_similarity = 0\n",
    "\n",
    "    for i in range(len(answers)):\n",
    "        text1 = ground_truths[i]\n",
    "        text2 = answers[i]\n",
    "        question = questions[i]\n",
    "\n",
    "        set1, set2 = set(text1.split()), set(text2.split())\n",
    "        intersection = len(set1 & set2)\n",
    "        union = len(set1 | set2)\n",
    "        result = intersection / union if union != 0 else 0\n",
    "        print(\"Evaluating question : \", question )\n",
    "        print('The jaccard similarity of this question is :', result)\n",
    "        print('-----------------------')\n",
    "        average_jaccard_similarity = average_jaccard_similarity + result\n",
    "    print(\"The average jaccard similarity of ground_truth and answer is :\", average_jaccard_similarity/len(answers))\n",
    "jaccard_similarity(questions, ground_truths, answers)"
   ]
  },
  {
   "cell_type": "markdown",
   "metadata": {},
   "source": [
    "BLEU Score"
   ]
  },
  {
   "cell_type": "code",
   "execution_count": 17,
   "metadata": {},
   "outputs": [
    {
     "name": "stderr",
     "output_type": "stream",
     "text": [
      "huggingface/tokenizers: The current process just got forked, after parallelism has already been used. Disabling parallelism to avoid deadlocks...\n",
      "To disable this warning, you can either:\n",
      "\t- Avoid using `tokenizers` before the fork if possible\n",
      "\t- Explicitly set the environment variable TOKENIZERS_PARALLELISM=(true | false)\n"
     ]
    },
    {
     "name": "stdout",
     "output_type": "stream",
     "text": [
      "Requirement already satisfied: nltk in /Users/vasstavkumarchava/Desktop/AI/RAG-project/venv/lib/python3.11/site-packages (3.9.1)\n",
      "Requirement already satisfied: click in /Users/vasstavkumarchava/Desktop/AI/RAG-project/venv/lib/python3.11/site-packages (from nltk) (8.1.8)\n",
      "Requirement already satisfied: joblib in /Users/vasstavkumarchava/Desktop/AI/RAG-project/venv/lib/python3.11/site-packages (from nltk) (1.4.2)\n",
      "Requirement already satisfied: regex>=2021.8.3 in /Users/vasstavkumarchava/Desktop/AI/RAG-project/venv/lib/python3.11/site-packages (from nltk) (2024.11.6)\n",
      "Requirement already satisfied: tqdm in /Users/vasstavkumarchava/Desktop/AI/RAG-project/venv/lib/python3.11/site-packages (from nltk) (4.67.1)\n",
      "\u001b[33mWARNING: There was an error checking the latest version of pip.\u001b[0m\u001b[33m\n",
      "\u001b[0mNote: you may need to restart the kernel to use updated packages.\n"
     ]
    }
   ],
   "source": [
    "%pip install nltk"
   ]
  },
  {
   "cell_type": "code",
   "execution_count": 18,
   "metadata": {},
   "outputs": [
    {
     "name": "stdout",
     "output_type": "stream",
     "text": [
      "Evaluating question: How does PUMA power its offices, stores, and warehouses?\n",
      "BLEU Score: 1.2714599839721324e-78\n",
      "--------------------------\n",
      "Evaluating question: What initiative did PUMA launch for recycling polyester jerseys?\n",
      "BLEU Score: 0.0860132510739358\n",
      "--------------------------\n",
      "Evaluating question: By how much did PUMA reduce its own carbon emissions compared to 2017?\n",
      "BLEU Score: 3.951829566952597e-155\n",
      "--------------------------\n",
      "Evaluating question: What step did PUMA take to reduce its transport emissions?\n",
      "BLEU Score: 2.9857029691673486e-78\n",
      "--------------------------\n"
     ]
    },
    {
     "name": "stderr",
     "output_type": "stream",
     "text": [
      "/Users/vasstavkumarchava/Desktop/AI/RAG-project/venv/lib/python3.11/site-packages/nltk/translate/bleu_score.py:577: UserWarning: \n",
      "The hypothesis contains 0 counts of 4-gram overlaps.\n",
      "Therefore the BLEU score evaluates to 0, independently of\n",
      "how many N-gram overlaps of lower order it contains.\n",
      "Consider using lower n-gram order or use SmoothingFunction()\n",
      "  warnings.warn(_msg)\n",
      "/Users/vasstavkumarchava/Desktop/AI/RAG-project/venv/lib/python3.11/site-packages/nltk/translate/bleu_score.py:577: UserWarning: \n",
      "The hypothesis contains 0 counts of 3-gram overlaps.\n",
      "Therefore the BLEU score evaluates to 0, independently of\n",
      "how many N-gram overlaps of lower order it contains.\n",
      "Consider using lower n-gram order or use SmoothingFunction()\n",
      "  warnings.warn(_msg)\n"
     ]
    }
   ],
   "source": [
    "from nltk.translate.bleu_score import sentence_bleu\n",
    "\n",
    "def calculate_bleu(questions, references, candidates):\n",
    "    for i in range(len(questions)):\n",
    "        reference = [references[i].split()]  \n",
    "        candidate = candidates[i].split()\n",
    "\n",
    "        bleu_score = sentence_bleu(reference, candidate)\n",
    "\n",
    "        print(\"Evaluating question:\", questions[i])\n",
    "        print(\"BLEU Score:\", bleu_score)\n",
    "        print(\"--------------------------\")\n",
    "\n",
    "calculate_bleu(questions=questions, references=ground_truths, candidates=answers)\n"
   ]
  },
  {
   "cell_type": "markdown",
   "metadata": {},
   "source": [
    "ROUGR Score"
   ]
  },
  {
   "cell_type": "code",
   "execution_count": 19,
   "metadata": {},
   "outputs": [
    {
     "name": "stderr",
     "output_type": "stream",
     "text": [
      "huggingface/tokenizers: The current process just got forked, after parallelism has already been used. Disabling parallelism to avoid deadlocks...\n",
      "To disable this warning, you can either:\n",
      "\t- Avoid using `tokenizers` before the fork if possible\n",
      "\t- Explicitly set the environment variable TOKENIZERS_PARALLELISM=(true | false)\n"
     ]
    },
    {
     "name": "stdout",
     "output_type": "stream",
     "text": [
      "Requirement already satisfied: rouge-score in /Users/vasstavkumarchava/Desktop/AI/RAG-project/venv/lib/python3.11/site-packages (0.1.2)\n",
      "Requirement already satisfied: absl-py in /Users/vasstavkumarchava/Desktop/AI/RAG-project/venv/lib/python3.11/site-packages (from rouge-score) (2.1.0)\n",
      "Requirement already satisfied: nltk in /Users/vasstavkumarchava/Desktop/AI/RAG-project/venv/lib/python3.11/site-packages (from rouge-score) (3.9.1)\n",
      "Requirement already satisfied: numpy in /Users/vasstavkumarchava/Desktop/AI/RAG-project/venv/lib/python3.11/site-packages (from rouge-score) (1.26.4)\n",
      "Requirement already satisfied: six>=1.14.0 in /Users/vasstavkumarchava/Desktop/AI/RAG-project/venv/lib/python3.11/site-packages (from rouge-score) (1.17.0)\n",
      "Requirement already satisfied: click in /Users/vasstavkumarchava/Desktop/AI/RAG-project/venv/lib/python3.11/site-packages (from nltk->rouge-score) (8.1.8)\n",
      "Requirement already satisfied: joblib in /Users/vasstavkumarchava/Desktop/AI/RAG-project/venv/lib/python3.11/site-packages (from nltk->rouge-score) (1.4.2)\n",
      "Requirement already satisfied: regex>=2021.8.3 in /Users/vasstavkumarchava/Desktop/AI/RAG-project/venv/lib/python3.11/site-packages (from nltk->rouge-score) (2024.11.6)\n",
      "Requirement already satisfied: tqdm in /Users/vasstavkumarchava/Desktop/AI/RAG-project/venv/lib/python3.11/site-packages (from nltk->rouge-score) (4.67.1)\n",
      "\u001b[33mWARNING: There was an error checking the latest version of pip.\u001b[0m\u001b[33m\n",
      "\u001b[0mNote: you may need to restart the kernel to use updated packages.\n"
     ]
    }
   ],
   "source": [
    "%pip install rouge-score\n"
   ]
  },
  {
   "cell_type": "code",
   "execution_count": 20,
   "metadata": {},
   "outputs": [
    {
     "name": "stdout",
     "output_type": "stream",
     "text": [
      "Evaluating question: How does PUMA power its offices, stores, and warehouses?\n",
      "ROUGE-1: 0.26666666666666666\n",
      "ROUGE-2: 0.10344827586206896\n",
      "ROUGE-L: 0.16666666666666669\n",
      "--------------------------\n",
      "Evaluating question: What initiative did PUMA launch for recycling polyester jerseys?\n",
      "ROUGE-1: 0.37209302325581395\n",
      "ROUGE-2: 0.1951219512195122\n",
      "ROUGE-L: 0.37209302325581395\n",
      "--------------------------\n",
      "Evaluating question: By how much did PUMA reduce its own carbon emissions compared to 2017?\n",
      "ROUGE-1: 0.25\n",
      "ROUGE-2: 0.10526315789473684\n",
      "ROUGE-L: 0.25\n",
      "--------------------------\n",
      "Evaluating question: What step did PUMA take to reduce its transport emissions?\n",
      "ROUGE-1: 0.3636363636363636\n",
      "ROUGE-2: 0.12903225806451615\n",
      "ROUGE-L: 0.30303030303030304\n",
      "--------------------------\n"
     ]
    }
   ],
   "source": [
    "from rouge_score import rouge_scorer\n",
    "\n",
    "def calculate_rouge(questions, references, candidates):\n",
    "    scorer = rouge_scorer.RougeScorer([\"rouge1\", \"rouge2\", \"rougeL\"], use_stemmer=True)\n",
    "\n",
    "    for i in range(len(questions)):\n",
    "        reference = references[i]\n",
    "        candidate = candidates[i]\n",
    "\n",
    "        scores = scorer.score(reference, candidate)\n",
    "\n",
    "        print(\"Evaluating question:\", questions[i])\n",
    "        print(\"ROUGE-1:\", scores[\"rouge1\"].fmeasure)\n",
    "        print(\"ROUGE-2:\", scores[\"rouge2\"].fmeasure)\n",
    "        print(\"ROUGE-L:\", scores[\"rougeL\"].fmeasure)\n",
    "        print(\"--------------------------\")\n",
    "\n",
    "calculate_rouge(questions=questions, references=ground_truths, candidates=answers)\n"
   ]
  },
  {
   "cell_type": "code",
   "execution_count": null,
   "metadata": {},
   "outputs": [],
   "source": []
  }
 ],
 "metadata": {
  "kernelspec": {
   "display_name": "Python 3.11.2 ('venv': venv)",
   "language": "python",
   "name": "python3"
  },
  "language_info": {
   "codemirror_mode": {
    "name": "ipython",
    "version": 3
   },
   "file_extension": ".py",
   "mimetype": "text/x-python",
   "name": "python",
   "nbconvert_exporter": "python",
   "pygments_lexer": "ipython3",
   "version": "3.11.2"
  },
  "orig_nbformat": 4,
  "vscode": {
   "interpreter": {
    "hash": "465cc22f8cdf5db61de00ad2cf69b075aad71d4dbe505f23fbbf52c5feefb436"
   }
  }
 },
 "nbformat": 4,
 "nbformat_minor": 2
}
